{
 "metadata": {
  "kernelspec": {
   "display_name": "Python 3",
   "language": "python",
   "name": "python3"
  },
  "language_info": {
   "codemirror_mode": {
    "name": "ipython",
    "version": 3
   },
   "file_extension": ".py",
   "mimetype": "text/x-python",
   "name": "python",
   "nbconvert_exporter": "python",
   "pygments_lexer": "ipython3",
   "version": "3.6.8"
  },
  "colab": {
   "provenance": []
  },
  "accelerator": "GPU"
 },
 "nbformat_minor": 0,
 "nbformat": 4,
 "cells": [
  {
   "cell_type": "code",
   "source": [
    "%matplotlib inline\n",
    "import numpy as np\n",
    "import matplotlib.pyplot as plt\n",
    "import pandas as pd\n",
    "import time"
   ],
   "metadata": {
    "collapsed": true,
    "jupyter": {
     "outputs_hidden": true
    },
    "id": "Ot3ahW7w4Esj"
   },
   "execution_count": null,
   "outputs": []
  },
  {
   "cell_type": "code",
   "source": [
    "from bs4 import BeautifulSoup\n",
    "import requests"
   ],
   "metadata": {
    "collapsed": true,
    "jupyter": {
     "outputs_hidden": true
    },
    "id": "sbmt5OaA4Esk"
   },
   "execution_count": null,
   "outputs": []
  },
  {
   "cell_type": "markdown",
   "source": [
    "To fetch a webpage's content, we can simply use the ``get()`` function within the requests library:"
   ],
   "metadata": {
    "id": "s8G64NLn4Esk"
   }
  },
  {
   "cell_type": "code",
   "source": [
    "url = \"https://www.npr.org/2018/11/05/664395755/what-if-the-polls-are-wrong-again-4-scenarios-for-what-might-happen-in-the-elect\"\n",
    "response = requests.get(url) # you can use any URL that you wish"
   ],
   "metadata": {
    "id": "SOci7NMm4Esl"
   },
   "execution_count": null,
   "outputs": []
  },
  {
   "cell_type": "markdown",
   "source": [
    "The response variable has many highly useful attributes, such as:\n",
    "- status_code\n",
    "- text\n",
    "- content\n",
    "\n",
    "Let's try each of them!"
   ],
   "metadata": {
    "id": "cujzEjFC4Esl"
   }
  },
  {
   "cell_type": "markdown",
   "source": [
    "### response.status_code"
   ],
   "metadata": {
    "id": "2u8vEydi4Esl"
   }
  },
  {
   "cell_type": "code",
   "source": [
    "response.status_code"
   ],
   "metadata": {
    "colab": {
     "base_uri": "https://localhost:8080/"
    },
    "id": "utFU6_4U4Esm",
    "outputId": "387bf866-a978-4004-e792-ff3cb3d04902"
   },
   "execution_count": null,
   "outputs": []
  },
  {
   "cell_type": "markdown",
   "source": [
    "You should have received a status code of 200, which means the page was successfully found on the server and sent to receiver (aka client/user/you). [Again, you can click here](https://www.restapitutorial.com/httpstatuscodes.html) for a full list of status codes.\n",
    "\n",
    "### response.text\n"
   ],
   "metadata": {
    "id": "Z9DeG-au4Esm"
   }
  },
  {
   "cell_type": "code",
   "source": [
    "response.text"
   ],
   "metadata": {
    "id": "LEMCYwKP4Esm",
    "colab": {
     "base_uri": "https://localhost:8080/",
     "height": 227
    },
    "outputId": "a35c9abc-c9ea-4999-9892-fa089d961ae7"
   },
   "execution_count": null,
   "outputs": []
  },
  {
   "cell_type": "markdown",
   "source": [
    "Holy moly! That looks awful. If we use our browser to visit the URL, then right-click the page and click 'View Page Source', we see that it is identical to this chunk of glorious text.\n",
    "\n",
    "### response.content"
   ],
   "metadata": {
    "id": "exhwXEUq4Esm"
   }
  },
  {
   "cell_type": "code",
   "source": [
    "response.content"
   ],
   "metadata": {
    "colab": {
     "base_uri": "https://localhost:8080/"
    },
    "id": "H2QsWOTl4Esn",
    "outputId": "81b20acf-2b6a-4e26-e9f8-637dbaef21c3"
   },
   "execution_count": null,
   "outputs": []
  },
  {
   "cell_type": "markdown",
   "source": [
    "What?! This seems identical to the ``.text`` field. However, the careful eye would notice that the very 1st characters differ; that is, ``.content`` has a *b'* character at the beginning, which in Python syntax denotes that the data type is bytes, whereas the ``.text`` field did not have it and is a regular String.\n",
    "\n",
    "Ok, so that's great, but how do we make sense of this text? We could manually parse it, but that's tedious and difficult. As mentioned, BeautifulSoup is specifically designed to parse this exact content (any webpage content).\n",
    "\n",
    "## BEAUTIFUL SOUP\n",
    "![title](images/soup_for_you.jpg) (property of NBC)\n",
    "\n",
    "\n",
    "The [documentation for BeautifulSoup is found here](https://www.crummy.com/software/BeautifulSoup/bs4/doc/).\n",
    "\n",
    "A BeautifulSoup object can be initialized with the ``.content`` from request and a flag denoting the type of parser that we should use. For example, we could specify ``html.parser``, ``lxml``, etc [documentation here](https://www.crummy.com/software/BeautifulSoup/bs4/doc/#differences-between-parsers). Since we are interested in standard webpages that use HTML, let's specify the html.parser:"
   ],
   "metadata": {
    "id": "m1Q0Ri4m4Esn"
   }
  },
  {
   "cell_type": "code",
   "source": [
    "soup = BeautifulSoup(response.content, \"html.parser\")\n",
    "soup"
   ],
   "metadata": {
    "colab": {
     "base_uri": "https://localhost:8080/"
    },
    "id": "tW5Vp9dx4Esn",
    "outputId": "18ba9944-6e27-4aa9-ac79-3eda08981a48"
   },
   "execution_count": null,
   "outputs": []
  },
  {
   "cell_type": "markdown",
   "source": [
    "Alright! That looks a little better; there's some whitespace formatting, adding some structure to our content! HTML code is structured by `<tags>`. Every tag has an opening and closing portion, denoted by ``< >`` and ``</ >``, respectively. If we want just the text (not the tags), we can use:"
   ],
   "metadata": {
    "id": "E18grZBT4Esn"
   }
  },
  {
   "cell_type": "code",
   "source": [
    "soup.get_text()"
   ],
   "metadata": {
    "colab": {
     "base_uri": "https://localhost:8080/",
     "height": 227
    },
    "id": "GaXnQ2MK4Esn",
    "outputId": "55985d01-26a0-45a1-d276-1d466d26ebba"
   },
   "execution_count": null,
   "outputs": []
  },
  {
   "cell_type": "markdown",
   "source": [
    "There's some tricky Javascript still nesting within it, but it definitely cleaned up a bit. On other websites, you may find even clearer text extraction.\n",
    "\n",
    "As detailed in the [BeautifulSoup documentation](https://www.crummy.com/software/BeautifulSoup/bs4/doc/), the easiest way to navigate through the tags is to simply name the tag you're interested in. For example:"
   ],
   "metadata": {
    "id": "znEmVkTb4Eso"
   }
  },
  {
   "cell_type": "code",
   "source": [
    "soup.head # fetches the head tag, which ecompasses the title tag"
   ],
   "metadata": {
    "colab": {
     "base_uri": "https://localhost:8080/"
    },
    "id": "fmGKBNTj4Eso",
    "outputId": "2b00e000-d897-4b0b-a792-1a7d3bfc9db5"
   },
   "execution_count": null,
   "outputs": []
  },
  {
   "cell_type": "markdown",
   "source": [
    "Usually head tags are small and only contain the most important contents; however, here, there's some Javascript code. The ``title`` tag resides within the head tag."
   ],
   "metadata": {
    "id": "wv0Zral-4Eso"
   }
  },
  {
   "cell_type": "code",
   "source": [
    "soup.title # we can specifically call for the title tag"
   ],
   "metadata": {
    "colab": {
     "base_uri": "https://localhost:8080/"
    },
    "id": "Lh6rU7SF4Eso",
    "outputId": "64826843-1373-43ad-96e8-61b01df290f9"
   },
   "execution_count": null,
   "outputs": []
  },
  {
   "cell_type": "markdown",
   "source": [
    "This result includes the tag itself. To get just the text within the tags, we can use the ``.name`` property."
   ],
   "metadata": {
    "id": "dIktCc0c4Eso"
   }
  },
  {
   "cell_type": "code",
   "source": [
    "soup.title.string"
   ],
   "metadata": {
    "colab": {
     "base_uri": "https://localhost:8080/",
     "height": 53
    },
    "id": "z_R26wDr4Eso",
    "outputId": "a2bee67f-3b9a-4d1e-998f-51d8ad6f45e0"
   },
   "execution_count": null,
   "outputs": []
  },
  {
   "cell_type": "markdown",
   "source": [
    "We can navigate to the parent tag (the tag that encompasses the current tag) via the ``.parent`` attribute:"
   ],
   "metadata": {
    "id": "GJPvceA24Eso"
   }
  },
  {
   "cell_type": "code",
   "source": [
    "soup.title.parent.name"
   ],
   "metadata": {
    "colab": {
     "base_uri": "https://localhost:8080/",
     "height": 36
    },
    "id": "n7I1iAKD4Esp",
    "outputId": "6db1fdf5-d25f-4b4b-c01d-a4c39dbe2364"
   },
   "execution_count": null,
   "outputs": []
  },
  {
   "cell_type": "markdown",
   "source": [
    "# 3. Parse the page with Beautiful Soup\n",
    "In HTML code, paragraphs are often denoated with a ``<p>`` tag."
   ],
   "metadata": {
    "id": "thLFNrBd4Esp"
   }
  },
  {
   "cell_type": "code",
   "source": [
    "soup.p"
   ],
   "metadata": {
    "colab": {
     "base_uri": "https://localhost:8080/"
    },
    "id": "EfBF2Imu4Esp",
    "outputId": "189b61a8-ad5d-4df4-9bc6-e06beb0ec595"
   },
   "execution_count": null,
   "outputs": []
  },
  {
   "cell_type": "markdown",
   "source": [
    "This returns the first paragraph, and we can access properties of the given tag with the same syntax we use for dictionaries and dataframes:"
   ],
   "metadata": {
    "id": "HNRm0UA64Esp"
   }
  },
  {
   "cell_type": "code",
   "source": [
    "soup.p['class']"
   ],
   "metadata": {
    "colab": {
     "base_uri": "https://localhost:8080/"
    },
    "id": "HhcTwpSI4Esp",
    "outputId": "ae055953-1128-4374-e5c7-1c6ca2a18d6d"
   },
   "execution_count": null,
   "outputs": []
  },
  {
   "cell_type": "markdown",
   "source": [
    "In addition to 'paragraph' (aka p) tags, link tags are also very common and are denoted by ``<a>`` tags"
   ],
   "metadata": {
    "id": "g-6229Zy4Esp"
   }
  },
  {
   "cell_type": "code",
   "source": [
    "soup.a"
   ],
   "metadata": {
    "colab": {
     "base_uri": "https://localhost:8080/"
    },
    "id": "cCoC2eR84Esp",
    "outputId": "20095734-746e-43df-999b-aa2b8c481849"
   },
   "execution_count": null,
   "outputs": []
  },
  {
   "cell_type": "markdown",
   "source": [
    "It is called the a tag because links are also called 'anchors'. Nearly every page has multiple paragraphs and anchors, so how do we access the subsequent tags? There are two common functions, `.find()` and `.find_all()`."
   ],
   "metadata": {
    "id": "Mqojz9vL4Esq"
   }
  },
  {
   "cell_type": "code",
   "source": [
    "soup.find('title')"
   ],
   "metadata": {
    "colab": {
     "base_uri": "https://localhost:8080/"
    },
    "id": "6Y8R2SFi4Esq",
    "outputId": "07f8176b-c9dc-4e02-a561-37b0185a9629"
   },
   "execution_count": null,
   "outputs": []
  },
  {
   "cell_type": "code",
   "source": [
    "soup.find_all('title')"
   ],
   "metadata": {
    "colab": {
     "base_uri": "https://localhost:8080/"
    },
    "id": "X84XVs1t4Esq",
    "outputId": "03c8043a-6b99-49cb-ec28-6dd2642ae922"
   },
   "execution_count": null,
   "outputs": []
  },
  {
   "cell_type": "markdown",
   "source": [
    "Here, the results were seemingly the same, since there is only one title to a webpage. However, you'll notice that ``.find_all()`` returned a list, not a single item. Sure, there was only one item in the list, but it returned a list. As the name implies, find_all() returns all items that match the passed-in tag."
   ],
   "metadata": {
    "id": "7UBEOL6B4Esq"
   }
  },
  {
   "cell_type": "code",
   "source": [
    "soup.find_all('a')"
   ],
   "metadata": {
    "colab": {
     "base_uri": "https://localhost:8080/"
    },
    "id": "2-6Vp85n4Esq",
    "outputId": "f95b504b-bf6a-43be-a605-b9dfc5ae4af2"
   },
   "execution_count": null,
   "outputs": []
  },
  {
   "cell_type": "markdown",
   "source": [
    "Look at all of those links! Amazing. It might be hard to read but the **href** portion of an *a* tag denotes the URL, and we can capture it via the ``.get()`` function."
   ],
   "metadata": {
    "id": "4i836wb14Esq"
   }
  },
  {
   "cell_type": "code",
   "source": [
    "for link in soup.find_all('a'): # we could optionally pass the href=True flag .find_all('a', href=True)\n",
    "    print(link.get('href'))"
   ],
   "metadata": {
    "colab": {
     "base_uri": "https://localhost:8080/"
    },
    "id": "Bl8qS_Rf4Esq",
    "outputId": "0bd9c6f4-8a0a-4b92-d5bc-250af153c375"
   },
   "execution_count": null,
   "outputs": []
  },
  {
   "cell_type": "markdown",
   "source": [
    "Many of those links are relative to the current URL (e.g., /section/news/)."
   ],
   "metadata": {
    "id": "mxegydU54Esq"
   }
  },
  {
   "cell_type": "code",
   "source": [
    "paragraphs = soup.find_all('p')\n",
    "paragraphs"
   ],
   "metadata": {
    "colab": {
     "base_uri": "https://localhost:8080/"
    },
    "id": "PPyR-68y4Esq",
    "outputId": "4922d731-8bdd-40f1-f165-7d0f3ef5c64e"
   },
   "execution_count": null,
   "outputs": []
  },
  {
   "cell_type": "markdown",
   "source": [
    "If we want just the paragraph text:"
   ],
   "metadata": {
    "id": "8cvoOVqu4Esr"
   }
  },
  {
   "cell_type": "code",
   "source": [
    "for pa in paragraphs:\n",
    "    print(pa.get_text())"
   ],
   "metadata": {
    "colab": {
     "base_uri": "https://localhost:8080/"
    },
    "id": "qlZm7jZy4Esr",
    "outputId": "4da3bf52-e068-40f8-90a6-841707d036d0"
   },
   "execution_count": null,
   "outputs": []
  },
  {
   "cell_type": "markdown",
   "source": [
    "Since there are multiple tags and various attributes, it is useful to check the data type of BeautifulSoup objects:"
   ],
   "metadata": {
    "id": "yGvSeEna4Esr"
   }
  },
  {
   "cell_type": "code",
   "source": [
    "type(soup.find('p'))"
   ],
   "metadata": {
    "colab": {
     "base_uri": "https://localhost:8080/"
    },
    "id": "4LFEAplz4Esr",
    "outputId": "e0b30c1f-4143-4024-bd67-a48e889c9aeb"
   },
   "execution_count": null,
   "outputs": []
  },
  {
   "cell_type": "markdown",
   "source": [
    "Since the ``.find()`` function returns a BeautifulSoup element, we can tack on multiple calls that continue to return elements:"
   ],
   "metadata": {
    "id": "SbCKfoUJ4Esr"
   }
  },
  {
   "cell_type": "code",
   "source": [
    "soup.find('p')"
   ],
   "metadata": {
    "colab": {
     "base_uri": "https://localhost:8080/"
    },
    "id": "dANpzXQO4Esr",
    "outputId": "e8e3a794-f03f-4028-e8c0-ec1accf50602"
   },
   "execution_count": null,
   "outputs": []
  },
  {
   "cell_type": "code",
   "source": [
    "soup.find('p').find('a')"
   ],
   "metadata": {
    "colab": {
     "base_uri": "https://localhost:8080/"
    },
    "id": "tZfdj8Xn4Esr",
    "outputId": "fe85ebd4-05b1-4b9c-f67c-48d1759b7bda"
   },
   "execution_count": null,
   "outputs": []
  },
  {
   "cell_type": "code",
   "source": [
    "soup.find('p').find('a').attrs['href'] # att"
   ],
   "metadata": {
    "colab": {
     "base_uri": "https://localhost:8080/",
     "height": 36
    },
    "id": "uhpBWjZH4Esr",
    "outputId": "803f96da-cc10-4b15-80d7-41e62fd03b26"
   },
   "execution_count": null,
   "outputs": []
  },
  {
   "cell_type": "code",
   "source": [
    "soup.find('p').find('a').text"
   ],
   "metadata": {
    "colab": {
     "base_uri": "https://localhost:8080/",
     "height": 36
    },
    "id": "rpS4kRF74Ess",
    "outputId": "66868202-0d76-44e7-94a2-ddda189d6bc3"
   },
   "execution_count": null,
   "outputs": []
  },
  {
   "cell_type": "markdown",
   "source": [
    "That doesn't look pretty, but it makes sense because if you look at what ``.find('a')`` returned, there is plenty of whitespace. We can remove that with Python's built-in ``.strip()`` function."
   ],
   "metadata": {
    "id": "813jIF2S4Ess"
   }
  },
  {
   "cell_type": "code",
   "source": [
    "soup.find('p').find('a').text.strip()"
   ],
   "metadata": {
    "colab": {
     "base_uri": "https://localhost:8080/",
     "height": 36
    },
    "id": "kstGHlCO4Ess",
    "outputId": "e3043fe3-60d5-43ff-eb4a-f067da7ccd26"
   },
   "execution_count": null,
   "outputs": []
  },
  {
   "cell_type": "markdown",
   "source": [
    "**NOTE:** above, we accessed the attributes of a link by using the property ``.attrs``. ``.attrs`` takes a dictionary as a parameter, and in the example above, we only provided the _key_, not a _value_, too. That is, we only cared that the ``<a>`` tag had an attribute named ``href`` (which we grabbed by typing that command), and we made no specific demands on what the value must be. In other words, regardless of the value of _href_, we grabbed that element. Alternatively, if you inspect your HTML code and notice select regions for which you'd like to extract text, you can specify it as part of the attributes, too!\n",
    "\n",
    "For example, in the full ``response.text``, we see the following line:\n",
    "\n",
    "``<header class=\"npr-header\" id=\"globalheader\" aria-label=\"NPR header\">``\n",
    "\n",
    "Let's say that we know that the information we care about is within tags that match this template (i.e., **class** is an attribute, and its value is **'npr-header'**)."
   ],
   "metadata": {
    "id": "aLa1gr054Ess"
   }
  },
  {
   "cell_type": "code",
   "source": [
    "soup.find('header', attrs={'class':'npr-header'})"
   ],
   "metadata": {
    "colab": {
     "base_uri": "https://localhost:8080/"
    },
    "id": "ikysFkvr4Ess",
    "outputId": "db231f59-65cd-483b-90d3-2810eef0af57"
   },
   "execution_count": null,
   "outputs": []
  },
  {
   "cell_type": "markdown",
   "source": [
    "This matched it! We could then continue further processing by tacking on other commands:"
   ],
   "metadata": {
    "id": "3fggYWyA4Ess"
   }
  },
  {
   "cell_type": "code",
   "source": [
    "soup.find('header', attrs={'class':'npr-header'}).find_all(\"li\") # li stands for list items"
   ],
   "metadata": {
    "colab": {
     "base_uri": "https://localhost:8080/"
    },
    "id": "XDyEuyLC4Ess",
    "outputId": "39f322f4-81b8-4b7a-a591-e94bcde47feb"
   },
   "execution_count": null,
   "outputs": []
  },
  {
   "cell_type": "markdown",
   "source": [
    "This returns all of our list items, and since it's within a particular header section of the page, it appears they are links to menu items for navigating the webpage. If we wanted to grab just the links within these:"
   ],
   "metadata": {
    "id": "SPWtolyw4Ess"
   }
  },
  {
   "cell_type": "code",
   "source": [
    "menu_links = set()\n",
    "for list_item in soup.find('header', attrs={'class':'npr-header'}).find_all(\"li\"):\n",
    "    for link in list_item.find_all('a', href=True):\n",
    "        menu_links.add(link)\n",
    "menu_links # a unique set of all the seemingly important links in the header"
   ],
   "metadata": {
    "colab": {
     "base_uri": "https://localhost:8080/"
    },
    "id": "zy9FTrG_4Ess",
    "outputId": "4108df0b-0f76-4129-e328-80ed4445aac9"
   },
   "execution_count": null,
   "outputs": []
  },
  {
   "cell_type": "markdown",
   "source": [
    "## TAKEAWAY LESSON\n",
    "The above tutorial isn't meant to be a study guide to memorize; its point is to show you the most important functionaity that exist within BeautifulSoup, and to illustrate how one can access different pieces of content. No two web scraping tasks are identical, so it's useful to play around with code and try different things, while using the above as examples of how you may navigate between different tags and properties of a page. Don't worry; we are always here to help when you get stuck!\n",
    "\n",
    "# String formatting\n",
    "As we parse webpages, we may often want to further adjust and format the text to a certain way.\n",
    "\n",
    "For example, say we wanted to scrape a polical website that lists all US Senators' name and office phone number. We may want to store information for each senator in a dictionary. All senators' information may be stored in a list. Thus, we'd have a list of dictionaries. Below, we will initialize such a list of dictionary (it has only 3 senators, for illustrative purposes, but imagine it contains many more)."
   ],
   "metadata": {
    "id": "-KAMo8zT4Est"
   }
  },
  {
   "cell_type": "code",
   "source": [
    "# this is a bit clumsy of an initialization, but we spell it out this way for clarity purposes\n",
    "# NOTE: imagine the dictionary were constructed in a more organic manner\n",
    "senator1 = {\"name\":\"Lamar Alexander\", \"number\":\"555-229-2812\"}\n",
    "senator2 = {\"name\":\"Tammy Baldwin\", \"number\":\"555-922-8393\"}\n",
    "senator3 = {\"name\":\"John Barrasso\", \"number\":\"555-827-2281\"}\n",
    "senators = [senator1, senator2, senator3]\n",
    "print(senators)"
   ],
   "metadata": {
    "colab": {
     "base_uri": "https://localhost:8080/"
    },
    "id": "Hpj6WkoX4Est",
    "outputId": "34de158b-b997-45ab-fcd6-5a0b7b703ae9"
   },
   "execution_count": null,
   "outputs": []
  },
  {
   "cell_type": "markdown",
   "source": [
    "In the real-world, we may not want the final form of our information to be in a Python dictionary; rather, we may need to send an email to people in our mailing list, urging them to call their senators. If we have a templated format in mind, we can do the following:"
   ],
   "metadata": {
    "id": "74n0QFQF4Est"
   }
  },
  {
   "cell_type": "code",
   "source": [
    "email_template = \"\"\"Please call {name} at {number}\"\"\"\n",
    "for senator in senators:\n",
    "    print(email_template.format(**senator))"
   ],
   "metadata": {
    "colab": {
     "base_uri": "https://localhost:8080/"
    },
    "id": "5zgY4D2T4Est",
    "outputId": "91dc0a9b-b99c-4fa8-b8b1-3c45bdc8315e"
   },
   "execution_count": null,
   "outputs": []
  },
  {
   "cell_type": "markdown",
   "source": [
    "**Please [visit here](https://docs.python.org/3/library/stdtypes.html#str.format)** for further documentation\n",
    "                      \n",
    "Alternatively, one can also format their text via the ``f'-strings`` property. [See documentation here](https://docs.python.org/3/reference/lexical_analysis.html#f-strings). For example, using the above data structure and goal, one could yield identical results via:"
   ],
   "metadata": {
    "id": "dK0FNlMa4Est"
   }
  },
  {
   "cell_type": "code",
   "source": [
    "for senator in senators:\n",
    "    print(f\"Please call {senator['name']} at {senator['number']}\")"
   ],
   "metadata": {
    "colab": {
     "base_uri": "https://localhost:8080/"
    },
    "id": "UBfCotBa4Est",
    "outputId": "16b0209e-9e05-4fd4-9e56-b8e501233669"
   },
   "execution_count": null,
   "outputs": []
  },
  {
   "cell_type": "markdown",
   "source": [
    "Additionally, sometimes we wish to search large strings of text. If we wish to find all occurrences within a given string, a very mechanical, procedural way of doing it would be to use the ``.find()`` function in Python and to repeatedly update the starting index from which we are looking.\n",
    "\n",
    "## Regular Expressions\n",
    "A way more suitable and powerful way is to use Regular Expressions, which is a pattern matching mechanism used throughout Computer Science and programming (it's not just specific to Python). A tutorial on Regular Expressions (aka regex) is beond this lab, but below are many great resources that we recommend, if you are interested in them (could be very useful for a homework problem):\n",
    "- https://docs.python.org/3.3/library/re.html\n",
    "- https://regexone.com\n",
    "- https://docs.python.org/3/howto/regex.html.\n",
    "\n",
    "# Additonal Python/Homework Comment\n",
    "In Homework #1, we ask you to complete functions that have signatures with a syntax you may not have seen before:\n",
    "\n",
    "``def create_star_table(starlist: list) -> list:``\n",
    "\n",
    "To be clear, this syntax merely means that the input parameter must be a list, and the output must be a list. It's no different than any other function, it just puts a requirement on the behavior of the function.\n",
    "\n",
    "It is **typing** our function. Please [see this documention if you have more questions.](https://docs.python.org/3/library/typing.html)\n",
    "\n",
    "# Walkthrough Example (of Web Scraping)\n",
    "We're going to see the structure of Goodread's best books list (**NOTE: Goodreads is described a little more within the other Lab2_More_Pandas.ipynb notebook)**. We'll use the Developer tools in chrome, safari and firefox have similar tools available. To get this page we use the `requests` module. But first we should check if the company's policy allows scraping. Check the [robots.txt](https://www.goodreads.com/robots.txt) to find what sites/elements are not accessible. Please read and verify.\n",
    "\n",
    "![](images/goodreads1.png)"
   ],
   "metadata": {
    "id": "YSu3XnKh4Est"
   }
  },
  {
   "cell_type": "code",
   "source": [
    "url=\"https://www.npr.org/2018/11/05/664395755/what-if-the-polls-are-wrong-again-4-scenarios-for-what-might-happen-in-the-elect\"\n",
    "response = requests.get(url)\n",
    "# response.status_code\n",
    "# response.content\n",
    "\n",
    "# Beautiful Soup (library) time!\n",
    "soup = BeautifulSoup(response.content, \"html.parser\")\n",
    "# print(soup)\n",
    "# print(soup.prettify())\n",
    "soup.find(\"title\")\n",
    "\n",
    "    # Q1: how do we get the title's text?\n",
    "# soup.find(\"title\").string\n",
    "    # Q2: how do we get the webpage's entire content?\n",
    "# soup.get_text()"
   ],
   "metadata": {
    "colab": {
     "base_uri": "https://localhost:8080/"
    },
    "id": "iegDg88y4Esu",
    "outputId": "494fc0cb-b3a7-435c-d4e0-55544fc505d2"
   },
   "execution_count": null,
   "outputs": []
  },
  {
   "cell_type": "code",
   "source": [
    "URLSTART=\"https://www.goodreads.com\"\n",
    "BESTBOOKS=\"/list/show/1.Best_Books_Ever?page=\"\n",
    "url = URLSTART+BESTBOOKS+'1'\n",
    "print(url)\n",
    "page = requests.get(url)"
   ],
   "metadata": {
    "colab": {
     "base_uri": "https://localhost:8080/"
    },
    "id": "nkpiBMbM4Esu",
    "outputId": "8022a2b0-7e91-4dc0-e2d8-933caf328182"
   },
   "execution_count": null,
   "outputs": []
  },
  {
   "cell_type": "markdown",
   "source": [
    "We can see properties of the page. Most relevant are `status_code` and `text`. The former tells us  if the web-page was found, and if found , ok. (See lecture notes.)"
   ],
   "metadata": {
    "id": "10jLfVUK4Esu"
   }
  },
  {
   "cell_type": "code",
   "source": [
    "page.status_code # 200 is good"
   ],
   "metadata": {
    "colab": {
     "base_uri": "https://localhost:8080/"
    },
    "id": "jgcAf-lO4Esu",
    "outputId": "f3bf60b9-5e30-4df7-8a84-6cdcfa4c565b"
   },
   "execution_count": null,
   "outputs": [
    {
     "data": {
      "text/plain": "200"
     },
     "execution_count": 36,
     "metadata": {},
     "output_type": "execute_result"
    }
   ]
  },
  {
   "cell_type": "code",
   "source": [
    "page.text[:5000]"
   ],
   "metadata": {
    "colab": {
     "base_uri": "https://localhost:8080/",
     "height": 227
    },
    "id": "qqbf_7Bd4Esu",
    "outputId": "51b7793d-0f91-4b1c-e180-3d0e500954bf"
   },
   "execution_count": null,
   "outputs": [
    {
     "data": {
      "text/plain": "'<!DOCTYPE html>\\n<html class=\"desktop withSiteHeaderTopFullImage\\n\">\\n<head>\\n  <title>Best Books Ever (94932 books)</title>\\n\\n<meta content=\\'93,439 books based on 229859 votes: The Hunger Games by Suzanne Collins, Harry Potter and the Order of the Phoenix by J.K. Rowling, Pride and Prejudice b...\\' name=\\'description\\'>\\n<meta content=\\'telephone=no\\' name=\\'format-detection\\'>\\n<link href=\\'https://www.goodreads.com/list/show/1.Best_Books_Ever\\' rel=\\'canonical\\'>\\n\\n\\n\\n    <script type=\"text/javascript\"> var ue_t0=window.ue_t0||+new Date();\\n </script>\\n  <script type=\"text/javascript\">\\n    var ue_mid = \"A1PQBFHBHS6YH1\";\\n    var ue_sn = \"www.goodreads.com\";\\n    var ue_furl = \"fls-na.amazon.com\";\\n    var ue_sid = \"727-5034609-6932727\";\\n    var ue_id = \"GQKRR3AQ2FANQDXA7AAG\";\\n\\n    (function(e){var c=e;var a=c.ue||{};a.main_scope=\"mainscopecsm\";a.q=[];a.t0=c.ue_t0||+new Date();a.d=g;function g(h){return +new Date()-(h?0:a.t0)}function d(h){return function(){a.q.push({n:h,a:arguments,t:a.d()})}}function b(m,l,h,j,i){var k={m:m,f:l,l:h,c:\"\"+j,err:i,fromOnError:1,args:arguments};c.ueLogError(k);return false}b.skipTrace=1;e.onerror=b;function f(){c.uex(\"ld\")}if(e.addEventListener){e.addEventListener(\"load\",f,false)}else{if(e.attachEvent){e.attachEvent(\"onload\",f)}}a.tag=d(\"tag\");a.log=d(\"log\");a.reset=d(\"rst\");c.ue_csm=c;c.ue=a;c.ueLogError=d(\"err\");c.ues=d(\"ues\");c.uet=d(\"uet\");c.uex=d(\"uex\");c.uet(\"ue\")})(window);(function(e,d){var a=e.ue||{};function c(g){if(!g){return}var f=d.head||d.getElementsByTagName(\"head\")[0]||d.documentElement,h=d.createElement(\"script\");h.async=\"async\";h.src=g;f.insertBefore(h,f.firstChild)}function b(){var k=e.ue_cdn||\"z-ecx.images-amazon.com\",g=e.ue_cdns||\"images-na.ssl-images-amazon.com\",j=\"/images/G/01/csminstrumentation/\",h=e.ue_file||\"ue-full-11e51f253e8ad9d145f4ed644b40f692._V1_.js\",f,i;if(h.indexOf(\"NSTRUMENTATION_FIL\")>=0){return}if(\"ue_https\" in e){f=e.ue_https}else{f=e.location&&e.location.protocol==\"https:\"?1:0}i=f?\"https://\":\"http://\";i+=f?g:k;i+=j;i+=h;c(i)}if(!e.ue_inline){if(a.loadUEFull){a.loadUEFull()}else{b()}}a.uels=c;e.ue=a})(window,document);\\n\\n    if (window.ue && window.ue.tag) { window.ue.tag(\\'list:show:signed_out\\', ue.main_scope);window.ue.tag(\\'list:show:signed_out:desktop\\', ue.main_scope); }\\n  </script>\\n\\n  <!-- * Copied from https://info.analytics.a2z.com/#/docs/data_collection/csa/onboard */ -->\\n<script>\\n  //<![CDATA[\\n    !function(){function n(n,t){var r=i(n);return t&&(r=r(\"instance\",t)),r}var r=[],c=0,i=function(t){return function(){var n=c++;return r.push([t,[].slice.call(arguments,0),n,{time:Date.now()}]),i(n)}};n._s=r,this.csa=n}();\\n    \\n    if (window.csa) {\\n      window.csa(\"Config\", {\\n        \"Application\": \"GoodreadsMonolith\",\\n        \"Events.SushiEndpoint\": \"https://unagi.amazon.com/1/events/com.amazon.csm.csa.prod\",\\n        \"Events.Namespace\": \"csa\",\\n        \"CacheDetection.RequestID\": \"GQKRR3AQ2FANQDXA7AAG\",\\n        \"ObfuscatedMarketplaceId\": \"A1PQBFHBHS6YH1\"\\n      });\\n    \\n      window.csa(\"Events\")(\"setEntity\", {\\n        session: { id: \"727-5034609-6932727\" },\\n        page: {requestId: \"GQKRR3AQ2FANQDXA7AAG\", meaningful: \"interactive\"}\\n      });\\n    }\\n    \\n    var e = document.createElement(\"script\"); e.src = \"https://m.media-amazon.com/images/I/41mrkPcyPwL.js\"; document.head.appendChild(e);\\n  //]]>\\n</script>\\n\\n\\n          <script type=\"text/javascript\">\\n        if (window.Mobvious === undefined) {\\n          window.Mobvious = {};\\n        }\\n        window.Mobvious.device_type = \\'desktop\\';\\n        </script>\\n\\n\\n  \\n<script src=\"https://s.gr-assets.com/assets/webfontloader-2d88cff0adfd51bd1d253f792b05e614.js\"></script>\\n<script>\\n//<![CDATA[\\n\\n  WebFont.load({\\n    classes: false,\\n    custom: {\\n      families: [\"Lato:n4,n7,i4\", \"Merriweather:n4,n7,i4\"],\\n      urls: [\"https://s.gr-assets.com/assets/gr/fonts-e256f84093cc13b27f5b82343398031a.css\"]\\n    }\\n  });\\n\\n//]]>\\n</script>\\n\\n  <link rel=\"stylesheet\" media=\"all\" href=\"https://s.gr-assets.com/assets/goodreads-ecf9285fef7194f28b662030726252f7.css\" />\\n\\n    <style type=\"text/css\" media=\"screen\">\\n    .bigTabs {\\n      margin-bottom: 10px;\\n    }\\n\\n    .list_read{\\n      background-color: #D7D2C4;\\n      float: left;\\n    }\\n  </style>\\n\\n\\n  <link rel=\"stylesheet\" media=\"screen\" href=\"https://s.gr-assets.com/assets/common_images-f5630939f2056b14f661a80fa8503dca.css\" />\\n\\n  <script src=\"https://s.gr-assets.com/assets/desktop/libraries-c07ee2e4be9ade4a64546b3ec60b523b.js\"></script>\\n  <script src=\"https://s.gr-assets.com/assets/application-0f595246102859de57f612729050f678.js\"></script>\\n\\n    <script>\\n  //<![CDATA[\\n    var gptAdSlots = gptAdSlots || [];\\n    var googletag = googletag || {};\\n    googletag.cmd = googletag.cmd || [];\\n    (function() {\\n      var gads = document.createElement(\"script\");\\n      gads.async = true;\\n      gads.type = \"text/javascript\";\\n      var useSSL = \"https:\" == document.location.protocol;\\n      gads.src = (useSSL ? \"https:\" : \"http:\") +\\n      \"//securepubads.g.doubleclick.net/tag/js/gpt.js\";\\n      var node = document.get'"
     },
     "execution_count": 37,
     "metadata": {},
     "output_type": "execute_result"
    }
   ]
  },
  {
   "cell_type": "markdown",
   "source": [
    "Let us write a loop to fetch 2 pages of \"best-books\" from goodreads. Notice the use of a format string. This is an example of old-style python format strings"
   ],
   "metadata": {
    "id": "QalYqcuK4Esu"
   }
  },
  {
   "cell_type": "code",
   "source": [
    "URLSTART=\"https://www.goodreads.com\"\n",
    "BESTBOOKS=\"/list/show/1.Best_Books_Ever?page=\"\n",
    "for i in range(1,3):\n",
    "    bookpage=str(i)\n",
    "    stuff=requests.get(URLSTART+BESTBOOKS+bookpage)\n",
    "    # filetowrite=\"files/page\"+ '%02d' % i + \".html\"\n",
    "    filetowrite=\"page\"+ '%02d' % i + \".html\"\n",
    "\n",
    "    print(\"FTW\", filetowrite)\n",
    "    fd=open(filetowrite,\"w\")\n",
    "    fd.write(stuff.text)\n",
    "    fd.close()\n",
    "    # f = open(\"page01.html\", \"w\")\n",
    "    # f.write(\"Now the file has more content!\")\n",
    "    # f.close()\n",
    "    time.sleep(2)"
   ],
   "metadata": {
    "colab": {
     "base_uri": "https://localhost:8080/"
    },
    "id": "1aRUhjk74Esv",
    "outputId": "025a3a5e-19ce-4d0d-872e-fdfd06797fe3"
   },
   "execution_count": null,
   "outputs": [
    {
     "name": "stdout",
     "output_type": "stream",
     "text": [
      "FTW page01.html\n"
     ]
    },
    {
     "ename": "UnicodeEncodeError",
     "evalue": "'charmap' codec can't encode character '\\u25be' in position 16100: character maps to <undefined>",
     "output_type": "error",
     "traceback": [
      "\u001B[1;31m---------------------------------------------------------------------------\u001B[0m",
      "\u001B[1;31mUnicodeEncodeError\u001B[0m                        Traceback (most recent call last)",
      "Cell \u001B[1;32mIn [38], line 11\u001B[0m\n\u001B[0;32m      9\u001B[0m \u001B[38;5;28mprint\u001B[39m(\u001B[38;5;124m\"\u001B[39m\u001B[38;5;124mFTW\u001B[39m\u001B[38;5;124m\"\u001B[39m, filetowrite)\n\u001B[0;32m     10\u001B[0m fd\u001B[38;5;241m=\u001B[39m\u001B[38;5;28mopen\u001B[39m(filetowrite,\u001B[38;5;124m\"\u001B[39m\u001B[38;5;124mw\u001B[39m\u001B[38;5;124m\"\u001B[39m)\n\u001B[1;32m---> 11\u001B[0m \u001B[43mfd\u001B[49m\u001B[38;5;241;43m.\u001B[39;49m\u001B[43mwrite\u001B[49m\u001B[43m(\u001B[49m\u001B[43mstuff\u001B[49m\u001B[38;5;241;43m.\u001B[39;49m\u001B[43mtext\u001B[49m\u001B[43m)\u001B[49m\n\u001B[0;32m     12\u001B[0m fd\u001B[38;5;241m.\u001B[39mclose()\n\u001B[0;32m     13\u001B[0m \u001B[38;5;66;03m# f = open(\"page01.html\", \"w\")\u001B[39;00m\n\u001B[0;32m     14\u001B[0m \u001B[38;5;66;03m# f.write(\"Now the file has more content!\")\u001B[39;00m\n\u001B[0;32m     15\u001B[0m \u001B[38;5;66;03m# f.close()\u001B[39;00m\n",
      "File \u001B[1;32m~\\AppData\\Local\\Programs\\Python\\Python310\\lib\\encodings\\cp1252.py:19\u001B[0m, in \u001B[0;36mIncrementalEncoder.encode\u001B[1;34m(self, input, final)\u001B[0m\n\u001B[0;32m     18\u001B[0m \u001B[38;5;28;01mdef\u001B[39;00m \u001B[38;5;21mencode\u001B[39m(\u001B[38;5;28mself\u001B[39m, \u001B[38;5;28minput\u001B[39m, final\u001B[38;5;241m=\u001B[39m\u001B[38;5;28;01mFalse\u001B[39;00m):\n\u001B[1;32m---> 19\u001B[0m     \u001B[38;5;28;01mreturn\u001B[39;00m \u001B[43mcodecs\u001B[49m\u001B[38;5;241;43m.\u001B[39;49m\u001B[43mcharmap_encode\u001B[49m\u001B[43m(\u001B[49m\u001B[38;5;28;43minput\u001B[39;49m\u001B[43m,\u001B[49m\u001B[38;5;28;43mself\u001B[39;49m\u001B[38;5;241;43m.\u001B[39;49m\u001B[43merrors\u001B[49m\u001B[43m,\u001B[49m\u001B[43mencoding_table\u001B[49m\u001B[43m)\u001B[49m[\u001B[38;5;241m0\u001B[39m]\n",
      "\u001B[1;31mUnicodeEncodeError\u001B[0m: 'charmap' codec can't encode character '\\u25be' in position 16100: character maps to <undefined>"
     ]
    }
   ]
  },
  {
   "cell_type": "markdown",
   "source": [
    "## 2. Parse the page, extract book urls\n",
    "\n",
    "Notice how we do file input-output, and use beautiful soup in the code below. The `with` construct ensures that the file being read is closed, something we do explicitly for the file being written. We look for the elements with class `bookTitle`, extract the urls, and write them into a file"
   ],
   "metadata": {
    "id": "WFB80t0b4Esv"
   }
  },
  {
   "cell_type": "code",
   "source": [
    "bookdict={}\n",
    "for i in range(1,3):\n",
    "    books=[]\n",
    "    stri = '%02d' % i\n",
    "    # filetoread=\"files/page\"+ stri + '.html'\n",
    "    filetoread=\"page\"+ stri + '.html'\n",
    "    print(\"FTW\", filetoread)\n",
    "    with open(filetoread) as fdr:\n",
    "        data = fdr.read()\n",
    "    soup = BeautifulSoup(data, 'html.parser')\n",
    "    for e in soup.select('.bookTitle'):\n",
    "        books.append(e['href'])\n",
    "    print(books[:10])\n",
    "    bookdict[stri]=books\n",
    "    print(bookdict)\n",
    "    fd=open(\"list\"+stri+\".txt\",\"w\")\n",
    "    fd.write(\"\\n\".join(books))\n",
    "    fd.close()"
   ],
   "metadata": {
    "colab": {
     "base_uri": "https://localhost:8080/"
    },
    "id": "2qRKWF764Esv",
    "outputId": "be2a974d-f0e9-4c55-9144-de6390d4fe25"
   },
   "execution_count": null,
   "outputs": []
  },
  {
   "cell_type": "markdown",
   "source": [
    "Here is George Orwell's 1984"
   ],
   "metadata": {
    "id": "cqz203AJ4Esv"
   }
  },
  {
   "cell_type": "code",
   "source": [
    "bookdict['02'][0]"
   ],
   "metadata": {
    "colab": {
     "base_uri": "https://localhost:8080/",
     "height": 36
    },
    "id": "UE98BBdT4Esv",
    "outputId": "c45896ac-5ce4-4e72-e388-e8995724dbee"
   },
   "execution_count": null,
   "outputs": []
  },
  {
   "cell_type": "markdown",
   "source": [
    " Lets go look at the first URLs on both pages"
   ],
   "metadata": {
    "id": "1FEp0N_u4Esv"
   }
  },
  {
   "cell_type": "markdown",
   "source": [
    "![](images/goodreads2.png)"
   ],
   "metadata": {
    "id": "GVwd5h584Esv"
   }
  },
  {
   "cell_type": "markdown",
   "source": [
    "## 3. Parse a book page, extract book properties\n",
    "\n",
    "Ok so now lets dive in and get one of these these files and parse them."
   ],
   "metadata": {
    "id": "_JNQDUW14Esw"
   }
  },
  {
   "cell_type": "code",
   "source": [
    "furl=URLSTART+bookdict['02'][0]\n",
    "furl"
   ],
   "metadata": {
    "id": "moiDa3D34Esw",
    "colab": {
     "base_uri": "https://localhost:8080/",
     "height": 36
    },
    "outputId": "7a1bc0cc-3f90-4f41-9a09-1740b038a2c2"
   },
   "execution_count": null,
   "outputs": []
  },
  {
   "cell_type": "markdown",
   "source": [
    "![](images/goodreads3.png)"
   ],
   "metadata": {
    "id": "Rc9Rfr9X4Esw"
   }
  },
  {
   "cell_type": "code",
   "source": [
    "fstuff=requests.get(furl)\n",
    "print(fstuff.status_code)"
   ],
   "metadata": {
    "id": "7G5Nz5ib4Esw",
    "colab": {
     "base_uri": "https://localhost:8080/"
    },
    "outputId": "f76986e0-d1a0-49ee-e261-bbda14faf6bd"
   },
   "execution_count": null,
   "outputs": []
  },
  {
   "cell_type": "code",
   "source": [
    "#d=BeautifulSoup(fstuff.text, 'html.parser')\n",
    "# try this to take care of arabic strings\n",
    "d = BeautifulSoup(fstuff.text, 'html.parser', from_encoding=\"utf-8\")"
   ],
   "metadata": {
    "collapsed": true,
    "jupyter": {
     "outputs_hidden": true
    },
    "id": "nJq2cBvz4Esw",
    "colab": {
     "base_uri": "https://localhost:8080/"
    },
    "outputId": "5e8674a5-7ddc-469c-e5f4-4c4535d7810a"
   },
   "execution_count": null,
   "outputs": []
  },
  {
   "cell_type": "code",
   "source": [
    "d.select(\"meta[property='og:title']\")[0]['content']"
   ],
   "metadata": {
    "id": "WOS535lU4Esw",
    "colab": {
     "base_uri": "https://localhost:8080/",
     "height": 36
    },
    "outputId": "d1c3cb2b-817c-44d0-f703-ee33af72ccf4"
   },
   "execution_count": null,
   "outputs": []
  },
  {
   "cell_type": "markdown",
   "source": [
    "Lets get everything we want..."
   ],
   "metadata": {
    "id": "9HTQ2mSm4Esw"
   }
  },
  {
   "cell_type": "code",
   "source": [
    "d"
   ],
   "metadata": {
    "colab": {
     "base_uri": "https://localhost:8080/"
    },
    "id": "OYyEbolgJYYG",
    "outputId": "2db0ecfd-3a1c-4f1b-c95f-dc2de8aebaa0"
   },
   "execution_count": null,
   "outputs": []
  },
  {
   "cell_type": "code",
   "source": [
    "#d=BeautifulSoup(fstuff.text, 'html.parser', from_encoding=\"utf-8\")\n",
    "print(\n",
    "\"title\", d.select_one(\"meta[property='og:title']\")['content'],\"\\n\",\n",
    "# \"isbn\", d.select(\"meta[property='books:isbn']\")[0]['content'],\"\\n\",\n",
    "\"type\", d.select(\"meta[property='og:type']\")[0]['content'],\"\\n\",\n",
    "# \"author\", d.select(\"meta[property='books:author']\")[0]['content'],\"\\n\",\n",
    "#\"average rating\", d.select_one(\"span.average\").text,\"\\n\",\n",
    "# \"ratingCount\", d.select(\"meta[itemprop='ratingCount']\")[0][\"content\"],\"\\n\"\n",
    "#\"reviewCount\", d.select_one(\"span.count\")[\"title\"]\n",
    ")"
   ],
   "metadata": {
    "id": "1SfjdyzB4Esw",
    "colab": {
     "base_uri": "https://localhost:8080/"
    },
    "outputId": "d369fc15-96b5-449a-bb7f-c4f286774bba"
   },
   "execution_count": null,
   "outputs": []
  },
  {
   "cell_type": "markdown",
   "source": [
    "Ok, now that we know what to do, lets wrap our fetching into a proper script. So that we dont overwhelm their servers, we will only fetch 5 from each page, but you get the idea...\n",
    "\n",
    "We'll segue of a bit to explore new style format strings. See https://pyformat.info for more info."
   ],
   "metadata": {
    "id": "a2VRezzd4Esw"
   }
  },
  {
   "cell_type": "code",
   "source": [
    "\"list{:0>2}.txt\".format(3)"
   ],
   "metadata": {
    "id": "AX2gEuTW4Esx",
    "colab": {
     "base_uri": "https://localhost:8080/",
     "height": 36
    },
    "outputId": "af2838d6-3c59-4abd-e4c1-10f48a0a4490"
   },
   "execution_count": null,
   "outputs": []
  },
  {
   "cell_type": "code",
   "source": [
    "a = \"4\"\n",
    "b = 4\n",
    "class Four:\n",
    "    def __str__(self):\n",
    "        return \"Fourteen\"\n",
    "c=Four()"
   ],
   "metadata": {
    "collapsed": true,
    "jupyter": {
     "outputs_hidden": true
    },
    "id": "hZEDRLh34Esx"
   },
   "execution_count": null,
   "outputs": []
  },
  {
   "cell_type": "code",
   "source": [
    "\"The hazy cat jumped over the {} and {} and {}\".format(a, b, c)"
   ],
   "metadata": {
    "id": "NAoh0vHG4Esx",
    "colab": {
     "base_uri": "https://localhost:8080/",
     "height": 36
    },
    "outputId": "4c669666-035b-41fa-8756-ee7a6480d666"
   },
   "execution_count": null,
   "outputs": []
  },
  {
   "cell_type": "markdown",
   "source": [
    "## 4. Set up a pipeline for fetching and parsing\n",
    "\n",
    "\n",
    "\n",
    "\n",
    "\n",
    "\n",
    "Ok lets get back to the fetching..."
   ],
   "metadata": {
    "id": "LJ3_wXdm4Esx"
   }
  },
  {
   "cell_type": "code",
   "source": [
    "fetched=[]\n",
    "for i in range(1,3):\n",
    "    # with open(\"files/list{:0>2}.txt\".format(i)) as fd:\n",
    "    with open(\"list{:0>2}.txt\".format(i)) as fd:\n",
    "\n",
    "        counter=0\n",
    "        for bookurl_line in fd:\n",
    "            if counter > 4:\n",
    "                break\n",
    "            bookurl=bookurl_line.strip()\n",
    "            stuff=requests.get(URLSTART+bookurl)\n",
    "            filetowrite=bookurl.split('/')[-1]\n",
    "            # filetowrite=\"files/\"+str(i)+\"_\"+filetowrite+\".html\"\n",
    "            filetowrite=str(i)+\"_\"+filetowrite+\".html\"\n",
    "\n",
    "            print(\"FTW\", filetowrite)\n",
    "            fd=open(filetowrite,\"w\")\n",
    "            fd.write(stuff.text)\n",
    "            fd.close()\n",
    "            fetched.append(filetowrite)\n",
    "            time.sleep(2)\n",
    "            counter=counter+1\n",
    "            \n",
    "print(fetched)"
   ],
   "metadata": {
    "id": "pBqfw3Jn4Esx",
    "colab": {
     "base_uri": "https://localhost:8080/"
    },
    "outputId": "1b12d449-0f43-466a-da6b-130793be60dc"
   },
   "execution_count": null,
   "outputs": []
  },
  {
   "cell_type": "markdown",
   "source": [
    "Ok we are off to parse each one of the html pages we fetched. \n",
    "\n",
    "---\n",
    "\n",
    "We have provided the skeleton of the code and the code to parse the year, since it is a bit more complex...see the difference in the screenshots above. "
   ],
   "metadata": {
    "id": "slxXoRVG4Esx"
   }
  },
  {
   "cell_type": "code",
   "source": [
    "import re\n",
    "yearre = r'\\d{4}'\n",
    "def get_year(d):\n",
    "    if d.select_one(\"nobr.greyText\"):\n",
    "        return d.select_one(\"nobr.greyText\").text.strip().split()[-1][:-1]\n",
    "    else:\n",
    "        thetext=d.select(\"div#details div.row\")[1].text.strip()\n",
    "        rowmatch=re.findall(yearre, thetext)\n",
    "        if len(rowmatch) > 0:\n",
    "            rowtext=rowmatch[0].strip()\n",
    "        else:\n",
    "            rowtext=\"NA\"\n",
    "        return rowtext"
   ],
   "metadata": {
    "collapsed": true,
    "jupyter": {
     "outputs_hidden": true
    },
    "id": "XaBi6faN4Esx"
   },
   "execution_count": null,
   "outputs": []
  },
  {
   "cell_type": "markdown",
   "source": [
    "<div class=\"exercise\"><b>Exercise</b></div>\n",
    "\n",
    "Your job is to fill in the code to get the genres."
   ],
   "metadata": {
    "id": "9_ZAMtOr4Esy"
   }
  },
  {
   "cell_type": "code",
   "source": [
    "def get_genres(d):\n",
    "    # your code here\n",
    "    genres=d.select(\"div.elementList div.left a\")\n",
    "    glist=[]\n",
    "    for g in genres:\n",
    "        glist.append(g['href'])\n",
    "    return glist"
   ],
   "metadata": {
    "collapsed": true,
    "jupyter": {
     "outputs_hidden": true
    },
    "id": "_eWD5qfR4Esy"
   },
   "execution_count": null,
   "outputs": []
  },
  {
   "cell_type": "code",
   "source": [
    "\n",
    "listofdicts=[]\n",
    "for filetoread in fetched:\n",
    "    print(filetoread)\n",
    "    td={}\n",
    "    with open(filetoread) as fd:\n",
    "        datext = fd.read()\n",
    "    d=BeautifulSoup(datext, 'html.parser')\n",
    "    td['title']=d.select_one(\"meta[property='og:title']\")['content']\n",
    "    # td['isbn']=d.select_one(\"meta[property='books:isbn']\")['content']\n",
    "    td['booktype']=d.select_one(\"meta[property='og:type']\")['content']\n",
    "    # td['author']=d.select_one(\"meta[property='books:author']\")['content']\n",
    "    #td['rating']=d.select_one(\"span.average\").text\n",
    "    # td['year'] = get_year(d)\n",
    "    td['file']=filetoread\n",
    "    glist = get_genres(d)\n",
    "    td['genres']=\"|\".join(glist)\n",
    "    listofdicts.append(td)"
   ],
   "metadata": {
    "id": "ev9nPKOq4Esy",
    "colab": {
     "base_uri": "https://localhost:8080/"
    },
    "outputId": "fda4bb25-86b7-454c-e66a-f9cd1e96a35e"
   },
   "execution_count": null,
   "outputs": []
  },
  {
   "cell_type": "code",
   "source": [
    "listofdicts[0]"
   ],
   "metadata": {
    "id": "pOgvOnZK4Esy",
    "colab": {
     "base_uri": "https://localhost:8080/"
    },
    "outputId": "3817be90-3cfa-49bb-d7dc-9b8cedfa97d5"
   },
   "execution_count": null,
   "outputs": []
  },
  {
   "cell_type": "markdown",
   "source": [
    "Finally lets write all this stuff into a csv file which we will use to do analysis."
   ],
   "metadata": {
    "id": "WV438kQL4Esz"
   }
  },
  {
   "cell_type": "code",
   "source": [
    "df = pd.DataFrame.from_records(listofdicts)\n",
    "df"
   ],
   "metadata": {
    "id": "Ay3pKpO_4Esz",
    "colab": {
     "base_uri": "https://localhost:8080/",
     "height": 861
    },
    "outputId": "74e2e375-50dd-4a50-fd61-ba3182f58f8f"
   },
   "execution_count": null,
   "outputs": []
  },
  {
   "cell_type": "code",
   "source": [
    "# df.to_csv(\"files/meta_utf8_EK.csv\", index=False, header=True)\n",
    "df.to_csv(\"meta_utf8_EK.csv\", index=False, header=True)"
   ],
   "metadata": {
    "id": "VSwdhHJS4Esz"
   },
   "execution_count": null,
   "outputs": []
  }
 ]
}